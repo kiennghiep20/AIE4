{
 "cells": [
  {
   "cell_type": "code",
   "execution_count": null,
   "id": "ea0a1ed4",
   "metadata": {},
   "outputs": [],
   "source": [
    "from pysat.solvers import Glucose3\n",
    "# ANSI escape codes for colors\n",
    "COLOR_GREEN_BG = '\\033[42m'\n",
    "COLOR_RED_BG = '\\033[41m'\n",
    "COLOR_RESET = '\\033[0m'\n",
    "COLOR_WHITE_FG = '\\033[97m' # White text for better visibility on colored background"
   ]
  },
  {
   "cell_type": "code",
   "execution_count": null,
   "id": "dd8ffe34",
   "metadata": {},
   "outputs": [],
   "source": [
    "class Cell:\n",
    "    def __init__(self, number):\n",
    "        self.number = number\n",
    "        self.color = False # False for red cell, True for green cell\n",
    "        self.adjacent_cells = []\n",
    "    def add_adjacency(self, cell):\n",
    "        if cell not in self.adjacent_cells:\n",
    "            self.adjacent_cells.append(cell)\n",
    "        if self not in cell:\n",
    "            cell.adjacent_cells.append(self) # Ensure symmetry\n",
    "    def __str__(self):\n",
    "        return f\"{COLOR_GREEN_BG}{COLOR_WHITE_FG}{self.number}{COLOR_RESET}\" if self.color else f\"{COLOR_RED_BG}{COLOR_WHITE_FG}{self.number}{COLOR_RESET}\"\n",
    "\n",
    "class Solve:\n",
    "    def __init__(self, matrix):\n",
    "        self.cells = []\n",
    "        for i in range(1, len(matrix), 2):\n",
    "            for j in range(1, len(matrix[i]), 2):\n",
    "                cell_num = matrix[i][j]\n",
    "                if cell_num > 9:\n",
    "                    raise Exception(\"Cell number should be between 0 and 9\")\n",
    "                new_cell = Cell(cell_num)\n",
    "                if len(matrix) < i >= 0 and len(matrix[i]) < j >= 0:\n",
    "                    new_cell.add_adjacency()\n",
    "\n",
    "\n",
    "input = ['. 2 3 . . 0 . . . .',\n",
    "         '. . . . 3 . 2 . . 6',\n",
    "         '. . 5 . 5 3 . 5 7 4',\n",
    "         '. 4 . 5 . 5 . 6 . 3',\n",
    "         '. . 4 . 5 . 6 . . 3',\n",
    "         '. . . 2 . 5 . . . .',\n",
    "         '4 . 1 . . . 1 1 . .',\n",
    "         '4 . 1 . . . 1 . 4 .',\n",
    "         '. . . . . 6 . . . 4',\n",
    "         '. 4 4 . . . . 4 . .']\n",
    "# def solve_problem(cells):"
   ]
  }
 ],
 "metadata": {
  "kernelspec": {
   "display_name": "Python 3",
   "language": "python",
   "name": "python3"
  },
  "language_info": {
   "codemirror_mode": {
    "name": "ipython",
    "version": 3
   },
   "file_extension": ".py",
   "mimetype": "text/x-python",
   "name": "python",
   "nbconvert_exporter": "python",
   "pygments_lexer": "ipython3",
   "version": "3.13.3"
  }
 },
 "nbformat": 4,
 "nbformat_minor": 5
}
