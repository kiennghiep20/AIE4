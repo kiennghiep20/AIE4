{
 "cells": [
  {
   "cell_type": "code",
   "execution_count": 2,
   "id": "ea0a1ed4",
   "metadata": {},
   "outputs": [],
   "source": [
    "from pysat.solvers import Glucose3\n",
    "# ANSI escape codes for colors\n",
    "COLOR_GREEN_BG = '\\033[42m'\n",
    "COLOR_RED_BG = '\\033[41m'\n",
    "COLOR_RESET = '\\033[0m'\n",
    "COLOR_WHITE_FG = '\\033[97m' # White text for better visibility on colored background"
   ]
  },
  {
   "cell_type": "code",
   "execution_count": 16,
   "id": "dd8ffe34",
   "metadata": {},
   "outputs": [
    {
     "name": "stdout",
     "output_type": "stream",
     "text": [
      "\u001b[41m\u001b[97m. \u001b[0m\u001b[41m\u001b[97m2 \u001b[0m\u001b[41m\u001b[97m3 \u001b[0m\u001b[41m\u001b[97m. \u001b[0m\u001b[41m\u001b[97m. \u001b[0m\u001b[41m\u001b[97m0 \u001b[0m\u001b[41m\u001b[97m. \u001b[0m\u001b[41m\u001b[97m. \u001b[0m\u001b[41m\u001b[97m. \u001b[0m\u001b[41m\u001b[97m. \u001b[0m\n",
      "\u001b[41m\u001b[97m. \u001b[0m\u001b[41m\u001b[97m. \u001b[0m\u001b[41m\u001b[97m. \u001b[0m\u001b[41m\u001b[97m. \u001b[0m\u001b[41m\u001b[97m3 \u001b[0m\u001b[41m\u001b[97m. \u001b[0m\u001b[41m\u001b[97m2 \u001b[0m\u001b[41m\u001b[97m. \u001b[0m\u001b[41m\u001b[97m. \u001b[0m\u001b[41m\u001b[97m6 \u001b[0m\n",
      "\u001b[41m\u001b[97m. \u001b[0m\u001b[41m\u001b[97m. \u001b[0m\u001b[41m\u001b[97m5 \u001b[0m\u001b[41m\u001b[97m. \u001b[0m\u001b[41m\u001b[97m5 \u001b[0m\u001b[41m\u001b[97m3 \u001b[0m\u001b[41m\u001b[97m. \u001b[0m\u001b[41m\u001b[97m5 \u001b[0m\u001b[41m\u001b[97m7 \u001b[0m\u001b[41m\u001b[97m4 \u001b[0m\n",
      "\u001b[41m\u001b[97m. \u001b[0m\u001b[41m\u001b[97m4 \u001b[0m\u001b[41m\u001b[97m. \u001b[0m\u001b[41m\u001b[97m5 \u001b[0m\u001b[41m\u001b[97m. \u001b[0m\u001b[41m\u001b[97m5 \u001b[0m\u001b[41m\u001b[97m. \u001b[0m\u001b[41m\u001b[97m6 \u001b[0m\u001b[41m\u001b[97m. \u001b[0m\u001b[41m\u001b[97m3 \u001b[0m\n",
      "\u001b[41m\u001b[97m. \u001b[0m\u001b[41m\u001b[97m. \u001b[0m\u001b[41m\u001b[97m4 \u001b[0m\u001b[41m\u001b[97m. \u001b[0m\u001b[41m\u001b[97m5 \u001b[0m\u001b[41m\u001b[97m. \u001b[0m\u001b[41m\u001b[97m6 \u001b[0m\u001b[41m\u001b[97m. \u001b[0m\u001b[41m\u001b[97m. \u001b[0m\u001b[41m\u001b[97m3 \u001b[0m\n",
      "\u001b[41m\u001b[97m. \u001b[0m\u001b[41m\u001b[97m. \u001b[0m\u001b[41m\u001b[97m. \u001b[0m\u001b[41m\u001b[97m2 \u001b[0m\u001b[41m\u001b[97m. \u001b[0m\u001b[41m\u001b[97m5 \u001b[0m\u001b[41m\u001b[97m. \u001b[0m\u001b[41m\u001b[97m. \u001b[0m\u001b[41m\u001b[97m. \u001b[0m\u001b[41m\u001b[97m. \u001b[0m\n",
      "\u001b[41m\u001b[97m4 \u001b[0m\u001b[41m\u001b[97m. \u001b[0m\u001b[41m\u001b[97m1 \u001b[0m\u001b[41m\u001b[97m. \u001b[0m\u001b[41m\u001b[97m. \u001b[0m\u001b[41m\u001b[97m. \u001b[0m\u001b[41m\u001b[97m1 \u001b[0m\u001b[41m\u001b[97m1 \u001b[0m\u001b[41m\u001b[97m. \u001b[0m\u001b[41m\u001b[97m. \u001b[0m\n",
      "\u001b[41m\u001b[97m4 \u001b[0m\u001b[41m\u001b[97m. \u001b[0m\u001b[41m\u001b[97m1 \u001b[0m\u001b[41m\u001b[97m. \u001b[0m\u001b[41m\u001b[97m. \u001b[0m\u001b[41m\u001b[97m. \u001b[0m\u001b[41m\u001b[97m1 \u001b[0m\u001b[41m\u001b[97m. \u001b[0m\u001b[41m\u001b[97m4 \u001b[0m\u001b[41m\u001b[97m. \u001b[0m\n",
      "\u001b[41m\u001b[97m. \u001b[0m\u001b[41m\u001b[97m. \u001b[0m\u001b[41m\u001b[97m. \u001b[0m\u001b[41m\u001b[97m. \u001b[0m\u001b[41m\u001b[97m. \u001b[0m\u001b[41m\u001b[97m6 \u001b[0m\u001b[41m\u001b[97m. \u001b[0m\u001b[41m\u001b[97m. \u001b[0m\u001b[41m\u001b[97m. \u001b[0m\u001b[41m\u001b[97m4 \u001b[0m\n",
      "\u001b[41m\u001b[97m. \u001b[0m\u001b[41m\u001b[97m4 \u001b[0m\u001b[41m\u001b[97m4 \u001b[0m\u001b[41m\u001b[97m. \u001b[0m\u001b[41m\u001b[97m. \u001b[0m\u001b[41m\u001b[97m. \u001b[0m\u001b[41m\u001b[97m. \u001b[0m\u001b[41m\u001b[97m4 \u001b[0m\u001b[41m\u001b[97m. \u001b[0m\u001b[41m\u001b[97m. \u001b[0m\n",
      "\n"
     ]
    }
   ],
   "source": [
    "class Cell:\n",
    "    def __init__(self, number):\n",
    "        self.number = number\n",
    "        self.color = False # False for red cell, True for green cell\n",
    "        self.adjacent_cells = []\n",
    "\n",
    "    def add_adjacency(self, other_cell):\n",
    "        if other_cell not in self.adjacent_cells:\n",
    "            self.adjacent_cells.append(other_cell)\n",
    "        if self not in other_cell.adjacent_cells:\n",
    "            other_cell.adjacent_cells.append(self) # Ensure symmetry\n",
    "    \n",
    "    def __str__(self):\n",
    "        return f\"{COLOR_GREEN_BG}{COLOR_WHITE_FG}{self.number} {COLOR_RESET}\" if self.color else f\"{COLOR_RED_BG}{COLOR_WHITE_FG}{self.number} {COLOR_RESET}\"\n",
    "\n",
    "class Solve:\n",
    "    def __init__(self, matrix):\n",
    "        self.cells = [] # 2D grid\n",
    "        cleaned_matrix = [row.replace(' ', '') for row in matrix]\n",
    "        self.m = len(cleaned_matrix) # Number of rows\n",
    "        self.n = len(cleaned_matrix[0]) # Number of cells\n",
    "        for i in range(self.m):\n",
    "            row = []\n",
    "            for j in range(self.n):\n",
    "                cell = cleaned_matrix[i][j]\n",
    "                if cell.isnumeric():\n",
    "                    cell = int(cell)\n",
    "                    if cell > 9: # Assuming there is no other constraint since the problem specified \"none-negative integer\" for non-empty cells\n",
    "                        raise ValueError(\"Cell number should be between 0 and 9\")\n",
    "                new_cell = Cell(cell)\n",
    "                row.append(new_cell)\n",
    "            self.cells.append(row)\n",
    "\n",
    "        # Add adjacency\n",
    "        for i in range(1, self.m, 2):\n",
    "            for j in range(1, self.n, 2):\n",
    "                index_to_add = [(i - 1, j - 1), (i - 1, j), (i - 1, j + 1), (i, j - 1), (i, j), (i, j + 1), (i + 1, j - 1), (i + 1, j), (i + 1, j + 1)]\n",
    "            for indexs in index_to_add:\n",
    "                i_to_add, j_to_add = indexs\n",
    "                if self.m > i_to_add >= 0 and self.n > j_to_add >= 0:\n",
    "                    self.cells[i][j].add_adjacency(self.cells[i_to_add][j_to_add])\n",
    "\n",
    "\n",
    "    def __str__(self):\n",
    "        result = \"\"\n",
    "        for i in range(self.m):\n",
    "            for j in range(self.n):\n",
    "                result += str(self.cells[i][j])\n",
    "            result += '\\n'\n",
    "        return result\n",
    "\n",
    "\n",
    "input = ['. 2 3 . . 0 . . . .',\n",
    "         '. . . . 3 . 2 . . 6',\n",
    "         '. . 5 . 5 3 . 5 7 4',\n",
    "         '. 4 . 5 . 5 . 6 . 3',\n",
    "         '. . 4 . 5 . 6 . . 3',\n",
    "         '. . . 2 . 5 . . . .',\n",
    "         '4 . 1 . . . 1 1 . .',\n",
    "         '4 . 1 . . . 1 . 4 .',\n",
    "         '. . . . . 6 . . . 4',\n",
    "         '. 4 4 . . . . 4 . .']\n",
    "\n",
    "s = Solve(input)\n",
    "print(s)"
   ]
  }
 ],
 "metadata": {
  "kernelspec": {
   "display_name": "Python 3",
   "language": "python",
   "name": "python3"
  },
  "language_info": {
   "codemirror_mode": {
    "name": "ipython",
    "version": 3
   },
   "file_extension": ".py",
   "mimetype": "text/x-python",
   "name": "python",
   "nbconvert_exporter": "python",
   "pygments_lexer": "ipython3",
   "version": "3.13.3"
  }
 },
 "nbformat": 4,
 "nbformat_minor": 5
}
